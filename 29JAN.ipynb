{
 "cells": [
  {
   "cell_type": "code",
   "execution_count": 1,
   "id": "212a7011-4e17-439e-ae21-05276742c5b2",
   "metadata": {},
   "outputs": [],
   "source": [
    "Q1 = \"Guido van Rossum\""
   ]
  },
  {
   "cell_type": "code",
   "execution_count": 2,
   "id": "6b61e7d0-f44b-4bd6-89f0-3ebdbbc14f06",
   "metadata": {},
   "outputs": [],
   "source": [
    "Q2 = \"Python supports several programming paradigms, including Imperative, Object-Oriented, Functional, and Procedural programming.\""
   ]
  },
  {
   "cell_type": "code",
   "execution_count": 3,
   "id": "3a7e1288-ca5d-4a4b-9623-432fb9235da1",
   "metadata": {},
   "outputs": [],
   "source": [
    "Q3 = \"Yes, Pyhon is case sensitive when dealing with identifiers.\""
   ]
  },
  {
   "cell_type": "code",
   "execution_count": 4,
   "id": "f7d8ef7c-8870-4944-af53-1bb6ec462a12",
   "metadata": {},
   "outputs": [],
   "source": [
    "Q4 = \".py is the correct extension of the python file.\""
   ]
  },
  {
   "cell_type": "code",
   "execution_count": 5,
   "id": "7dc91df1-ac62-4e3c-84d7-04dc9da3ee49",
   "metadata": {},
   "outputs": [],
   "source": [
    "Q5 = \"Python is interpreted language.\" "
   ]
  },
  {
   "cell_type": "code",
   "execution_count": 6,
   "id": "e7f23fb5-a3a0-4935-ad32-ab51c93ac54d",
   "metadata": {},
   "outputs": [],
   "source": [
    "Q6 = \"Identation is used to define a block of code in python language. It is required in python to indicate which block of code a statement belongs to.\""
   ]
  },
  {
   "cell_type": "code",
   "execution_count": 7,
   "id": "1e1a81b5-9ac7-43b5-a365-fb2f7feab241",
   "metadata": {},
   "outputs": [],
   "source": [
    "Q7 = \"#(Hash) character is used to give single line comment in python.\""
   ]
  },
  {
   "cell_type": "code",
   "execution_count": 8,
   "id": "e3b2f160-a4e9-4046-968e-8b3984d07c00",
   "metadata": {},
   "outputs": [],
   "source": [
    "Q8 = \"The function sys.version can help us to find the version of the python that we are currently working on\""
   ]
  },
  {
   "cell_type": "code",
   "execution_count": 9,
   "id": "16c5f473-3b07-4a10-87ac-55967fd23e8d",
   "metadata": {},
   "outputs": [],
   "source": [
    "Q9 = \"It uses a construct called lambda.\""
   ]
  },
  {
   "cell_type": "code",
   "execution_count": 10,
   "id": "03a772d6-cb34-4c7e-bfed-2abaee518cba",
   "metadata": {},
   "outputs": [],
   "source": [
    "Q10 = \"preferred installer program.\""
   ]
  },
  {
   "cell_type": "code",
   "execution_count": 11,
   "id": "0896ac7b-230e-4b9c-8cbd-0459b8ab0c87",
   "metadata": {},
   "outputs": [],
   "source": [
    "Q11 = \"print(),type(),input(),max(),len(),pow(),etc...\""
   ]
  },
  {
   "cell_type": "code",
   "execution_count": 12,
   "id": "0e5bb68c-9e01-461d-b097-dff972ef7026",
   "metadata": {},
   "outputs": [],
   "source": [
    "Q12 = \"79 is the maximum possible length of an identifier in python.\""
   ]
  },
  {
   "cell_type": "code",
   "execution_count": 14,
   "id": "ec7a8f5c-ecc6-4529-bfa0-a32c8852c359",
   "metadata": {},
   "outputs": [],
   "source": [
    "Q13 = \"Python is arguably one of the most widely used programming language in the world.It can be used in: Desktop Applications, Mobile Applications, Database-driven softwares, Operating Systems,Data Science and Data Analysis, etc... \""
   ]
  },
  {
   "cell_type": "code",
   "execution_count": 15,
   "id": "c9463237-cfcd-47e2-ae0b-c485ef7a355a",
   "metadata": {},
   "outputs": [],
   "source": [
    "Q14 = \"Memory management in Python involves a private heap containing all Python objects and data structures.The management of this private heap is ensured internally by the Python memory manager.\""
   ]
  },
  {
   "cell_type": "code",
   "execution_count": 16,
   "id": "a8a6bc1d-b41e-4bcc-97d7-cad561c89457",
   "metadata": {},
   "outputs": [],
   "source": [
    "Q15 = \"1.Install Python from python.org. 2.Manually add Python to Windows Path.\""
   ]
  },
  {
   "cell_type": "code",
   "execution_count": 17,
   "id": "cdf24b4c-6290-48b1-a869-3fef644eab60",
   "metadata": {},
   "outputs": [],
   "source": [
    "Q16 = \"Identation refers to the spaces at the beginning of a code line.Where in other programming languages the identation in code is for readibility only,the identation in Python is very important.Python uses identation to indicate a block of code.\""
   ]
  },
  {
   "cell_type": "code",
   "execution_count": null,
   "id": "2772e645-c388-4eaf-bd56-29516e5bd206",
   "metadata": {},
   "outputs": [],
   "source": []
  }
 ],
 "metadata": {
  "kernelspec": {
   "display_name": "Python 3 (ipykernel)",
   "language": "python",
   "name": "python3"
  },
  "language_info": {
   "codemirror_mode": {
    "name": "ipython",
    "version": 3
   },
   "file_extension": ".py",
   "mimetype": "text/x-python",
   "name": "python",
   "nbconvert_exporter": "python",
   "pygments_lexer": "ipython3",
   "version": "3.10.8"
  }
 },
 "nbformat": 4,
 "nbformat_minor": 5
}
